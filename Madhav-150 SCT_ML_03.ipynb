{
 "cells": [
  {
   "cell_type": "code",
   "execution_count": 1,
   "id": "14fa4f5f",
   "metadata": {},
   "outputs": [
    {
     "name": "stdout",
     "output_type": "stream",
     "text": [
      "Loading '0' from C:\\Users\\madha\\Downloads\\dogvscats\\training_set\\training_set\\cats\n"
     ]
    },
    {
     "name": "stderr",
     "output_type": "stream",
     "text": [
      "100%|██████████| 4001/4001 [00:09<00:00, 429.44it/s]\n"
     ]
    },
    {
     "name": "stdout",
     "output_type": "stream",
     "text": [
      "Loading '1' from C:\\Users\\madha\\Downloads\\dogvscats\\training_set\\training_set\\dogs\n"
     ]
    },
    {
     "name": "stderr",
     "output_type": "stream",
     "text": [
      "100%|██████████| 4006/4006 [00:05<00:00, 685.02it/s]\n"
     ]
    },
    {
     "name": "stdout",
     "output_type": "stream",
     "text": [
      "Loaded 8005 training images\n",
      "Loading '0' from C:\\Users\\madha\\csv\\test1\\cats\n"
     ]
    },
    {
     "name": "stderr",
     "output_type": "stream",
     "text": [
      "100%|██████████| 64/64 [00:00<00:00, 703.19it/s]\n"
     ]
    },
    {
     "name": "stdout",
     "output_type": "stream",
     "text": [
      "Loading '1' from C:\\Users\\madha\\csv\\test1\\dogs\n"
     ]
    },
    {
     "name": "stderr",
     "output_type": "stream",
     "text": [
      "100%|██████████| 64/64 [00:00<00:00, 609.55it/s]\n"
     ]
    },
    {
     "name": "stdout",
     "output_type": "stream",
     "text": [
      "Loaded 128 test images\n",
      "Training SVM...\n",
      "[0 1 1 0 0 0 0 1 1 0 1 1 1 1 0 1 0 0 0 1 0 0 1 0 0 0 1 1 1 0 0 1 0 0 1 0 0\n",
      " 0 1 0 0 0 1 1 0 1 0 1 0 0 0 1 0 1 1 0 0 1 0 0 0 0 1 0 0 0 1 1 0 1 0 0 1 0\n",
      " 0 1 0 1 0 1 0 1 1 0 0 0 1 1 1 1 1 1 1 1 1 1 1 0 0 1 0 1 1 0 1 1 0 0 1 0 0\n",
      " 0 1 0 0 0 0 0 1 0 1 0 1 0 1 1 1 1]\n"
     ]
    }
   ],
   "source": [
    "import os\n",
    "import cv2\n",
    "import numpy as np\n",
    "from sklearn.svm import SVC\n",
    "from sklearn.metrics import classification_report\n",
    "from sklearn.preprocessing import StandardScaler\n",
    "from tqdm import tqdm\n",
    "\n",
    "# ===== Paths =====\n",
    "TRAIN_DIR = r'C:\\Users\\madha\\Downloads\\dogvscats\\training_set\\training_set'\n",
    "TEST_DIR = r'C:\\Users\\madha\\csv\\test1'\n",
    "\n",
    "# ===== Parameters =====\n",
    "IMG_SIZE = (64, 64)  # Resize images to 64x64\n",
    "\n",
    "def load_images_from_folder(folder_path, label):\n",
    "    data = []\n",
    "    labels = []\n",
    "    print(f\"Loading '{label}' from {folder_path}\")\n",
    "    for filename in tqdm(os.listdir(folder_path)):\n",
    "        if not filename.lower().endswith(('.jpg', '.jpeg', '.png')):\n",
    "            continue  # Skip non-image files\n",
    "\n",
    "        filepath = os.path.join(folder_path, filename)\n",
    "        try:\n",
    "            img = cv2.imread(filepath, cv2.IMREAD_COLOR)\n",
    "            if img is None:\n",
    "                continue  # Skip if image is unreadable\n",
    "            img = cv2.resize(img, IMG_SIZE)\n",
    "            data.append(img.flatten())  # Flatten the image to 1D vector\n",
    "            labels.append(label)\n",
    "        except Exception as e:\n",
    "            print(f\"Failed to load {filename}: {e}\")\n",
    "    return data, labels\n",
    "\n",
    "\n",
    "# ===== Load Training Data =====\n",
    "cat_data, cat_labels = load_images_from_folder(os.path.join(TRAIN_DIR, 'cats'), 0)\n",
    "dog_data, dog_labels = load_images_from_folder(os.path.join(TRAIN_DIR, 'dogs'), 1)\n",
    "\n",
    "X_train = np.array(cat_data + dog_data)\n",
    "y_train = np.array(cat_labels + dog_labels)\n",
    "\n",
    "print(f\"Loaded {len(X_train)} training images\")\n",
    "\n",
    "# ===== Load Test Data =====\n",
    "cat_test_data, cat_test_labels = load_images_from_folder(os.path.join(TEST_DIR, 'cats'), 0)\n",
    "dog_test_data, dog_test_labels = load_images_from_folder(os.path.join(TEST_DIR, 'dogs'), 1)\n",
    "\n",
    "X_test = np.array(cat_test_data + dog_test_data)\n",
    "y_test = np.array(cat_test_labels + dog_test_labels)\n",
    "\n",
    "print(f\"Loaded {len(X_test)} test images\")\n",
    "\n",
    "# ===== Standardize Data =====\n",
    "scaler = StandardScaler()\n",
    "X_train_scaled = scaler.fit_transform(X_train)\n",
    "X_test_scaled = scaler.transform(X_test)\n",
    "\n",
    "# ===== Train SVM =====\n",
    "print(\"Training SVM...\")\n",
    "svm = SVC(kernel='linear')\n",
    "svm.fit(X_train_scaled, y_train)\n",
    "\n",
    "# ===== Predict =====\n",
    "y_pred = svm.predict(X_test_scaled)\n",
    "\n",
    "print(y_pred)\n",
    "\n",
    "# # ===== Evaluation =====\n",
    "# print(\"\\nClassification Report:\")\n",
    "# print(classification_report(y_test, y_pred, target_names=['Cat', 'Dog']))\n"
   ]
  },
  {
   "cell_type": "code",
   "execution_count": 2,
   "id": "15380b6b",
   "metadata": {},
   "outputs": [
    {
     "name": "stdout",
     "output_type": "stream",
     "text": [
      "              precision    recall  f1-score   support\n",
      "\n",
      "         Cat       0.56      0.59      0.58        64\n",
      "         Dog       0.57      0.53      0.55        64\n",
      "\n",
      "    accuracy                           0.56       128\n",
      "   macro avg       0.56      0.56      0.56       128\n",
      "weighted avg       0.56      0.56      0.56       128\n",
      "\n"
     ]
    }
   ],
   "source": [
    "print(classification_report(y_test, y_pred, target_names=['Cat', 'Dog'], labels=[0, 1]))\n"
   ]
  },
  {
   "cell_type": "code",
   "execution_count": null,
   "id": "0c9629ae",
   "metadata": {},
   "outputs": [],
   "source": []
  }
 ],
 "metadata": {
  "kernelspec": {
   "display_name": "base",
   "language": "python",
   "name": "python3"
  },
  "language_info": {
   "codemirror_mode": {
    "name": "ipython",
    "version": 3
   },
   "file_extension": ".py",
   "mimetype": "text/x-python",
   "name": "python",
   "nbconvert_exporter": "python",
   "pygments_lexer": "ipython3",
   "version": "3.11.5"
  }
 },
 "nbformat": 4,
 "nbformat_minor": 5
}
